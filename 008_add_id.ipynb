{
 "cells": [
  {
   "cell_type": "code",
   "execution_count": null,
   "metadata": {},
   "outputs": [],
   "source": [
    "import csv\n",
    "\n",
    "def load_csv():\n",
    "    with open('semweb-data-007.csv', 'r') as f:\n",
    "        csv_file = list(csv.reader(f))\n",
    "        return csv_file\n",
    "\n",
    "def write_to_csv(csv_file):\n",
    "    n = len(csv_file)\n",
    "    with open('semweb-data-008.csv', 'w') as csvFile:\n",
    "        writer = csv.writer(csvFile)\n",
    "        for i in range(n):\n",
    "            writer.writerow(csv_file[i])\n",
    "\n",
    "def add_country_id():\n",
    "    csv_file = load_csv()\n",
    "    csv_file[0].append('country_id')\n",
    "    for i in range(1, len(csv_file)):\n",
    "        entry = csv_file[i]\n",
    "        entry.append(f\"Country{entry[5].replace(' ', '')}\")\n"
   ]
  }
 ],
 "metadata": {
  "kernelspec": {
   "display_name": "Python 3.9.7 64-bit ('3.9.7')",
   "language": "python",
   "name": "python3"
  },
  "language_info": {
   "name": "python",
   "version": "3.9.7"
  },
  "orig_nbformat": 4,
  "vscode": {
   "interpreter": {
    "hash": "467d8379f95ad7eb63f1dc50c7908a840ac7d6ef9b8b78dbe6ade2a8663db7de"
   }
  }
 },
 "nbformat": 4,
 "nbformat_minor": 2
}
