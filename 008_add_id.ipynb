{
 "cells": [
  {
   "cell_type": "code",
   "execution_count": 15,
   "metadata": {},
   "outputs": [],
   "source": [
    "import csv\n",
    "from unidecode import unidecode\n",
    "import re\n",
    "\n",
    "def alpha_only(s):\n",
    "    return re.sub('[^0-9a-zA-Z]+', '', s)\n",
    "\n",
    "def load_csv():\n",
    "    with open('semweb-data-007.csv', 'r') as f:\n",
    "        csv_file = list(csv.reader(f))\n",
    "        return csv_file\n",
    "\n",
    "def write_to_csv(csv_file):\n",
    "    n = len(csv_file)\n",
    "    with open('semweb-data-008.csv', 'w') as csvFile:\n",
    "        writer = csv.writer(csvFile)\n",
    "        for i in range(n):\n",
    "            writer.writerow(csv_file[i])\n",
    "\n",
    "def add_country_id(csv_file):\n",
    "    csv_file[0].append('country_id')\n",
    "    for i in range(1, len(csv_file)):\n",
    "        entry = csv_file[i]\n",
    "        entry.append(f\"Country{alpha_only(entry[5].replace(' ', ''))}\")\n",
    "\n",
    "def add_city_id(csv_file):\n",
    "    csv_file[0].append('city_id')\n",
    "    for i in range(1, len(csv_file)):\n",
    "        entry = csv_file[i]\n",
    "        entry.append(f\"City{alpha_only(unidecode(entry[6].replace(' ', '')))}{alpha_only(unidecode(entry[5].replace(' ', '')))}\")\n",
    "\n",
    "def add_region_id(csv_file):\n",
    "    csv_file[0].append('region_id')\n",
    "    for i in range(1, len(csv_file)):\n",
    "        entry = csv_file[i]\n",
    "        entry.append(f\"Region{alpha_only(unidecode(entry[7].replace(' ', '')))}\")\n",
    "\n",
    "\n",
    "def add_research_output_id(csv_file):\n",
    "    csv_file[0].append('research_output_id')\n",
    "    for i in range(1, len(csv_file)):\n",
    "        entry = csv_file[i]\n",
    "        entry.append(f\"{alpha_only(unidecode(entry[10].replace(' ', '')))}\")\n",
    "\n",
    "def facade():\n",
    "    csv_file = load_csv()\n",
    "    add_city_id(csv_file)\n",
    "    add_country_id(csv_file)\n",
    "    add_region_id(csv_file)\n",
    "    add_research_output_id(csv_file)\n",
    "    write_to_csv(csv_file)\n",
    "\n",
    "facade()\n"
   ]
  },
  {
   "cell_type": "code",
   "execution_count": 14,
   "metadata": {},
   "outputs": [
    {
     "data": {
      "text/plain": [
       "'ayamsdas'"
      ]
     },
     "execution_count": 14,
     "metadata": {},
     "output_type": "execute_result"
    }
   ],
   "source": [
    "alpha_only('ayam.sdas')"
   ]
  },
  {
   "cell_type": "code",
   "execution_count": null,
   "metadata": {},
   "outputs": [],
   "source": []
  },
  {
   "cell_type": "code",
   "execution_count": null,
   "metadata": {},
   "outputs": [],
   "source": []
  },
  {
   "cell_type": "code",
   "execution_count": null,
   "metadata": {},
   "outputs": [],
   "source": []
  },
  {
   "cell_type": "code",
   "execution_count": null,
   "metadata": {},
   "outputs": [],
   "source": []
  },
  {
   "cell_type": "code",
   "execution_count": null,
   "metadata": {},
   "outputs": [],
   "source": []
  },
  {
   "cell_type": "code",
   "execution_count": null,
   "metadata": {},
   "outputs": [],
   "source": []
  }
 ],
 "metadata": {
  "kernelspec": {
   "display_name": "Python 3.9.7 64-bit ('3.9.7')",
   "language": "python",
   "name": "python3"
  },
  "language_info": {
   "codemirror_mode": {
    "name": "ipython",
    "version": 3
   },
   "file_extension": ".py",
   "mimetype": "text/x-python",
   "name": "python",
   "nbconvert_exporter": "python",
   "pygments_lexer": "ipython3",
   "version": "3.9.7"
  },
  "orig_nbformat": 4,
  "vscode": {
   "interpreter": {
    "hash": "467d8379f95ad7eb63f1dc50c7908a840ac7d6ef9b8b78dbe6ade2a8663db7de"
   }
  }
 },
 "nbformat": 4,
 "nbformat_minor": 2
}
